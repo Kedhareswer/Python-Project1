{
 "cells": [
  {
   "cell_type": "code",
   "execution_count": 39,
   "id": "50f84fcc",
   "metadata": {},
   "outputs": [],
   "source": [
    "#importing Numpy\n",
    "import numpy as np\n",
    "import pandas as pd"
   ]
  },
  {
   "cell_type": "markdown",
   "id": "18fb7f84",
   "metadata": {},
   "source": [
    "### 1) You have an array of shape (5, 5). Using NumPy, create a new array that contains the diagonal elements of the original array.\n"
   ]
  },
  {
   "cell_type": "code",
   "execution_count": 4,
   "id": "60d187c6",
   "metadata": {},
   "outputs": [
    {
     "name": "stdout",
     "output_type": "stream",
     "text": [
      "['Mahesh Babu' 'Vijay Deverakonda' 'Balakrishna' 'Sai Dharam Tej'\n",
      " 'Nithiin']\n"
     ]
    }
   ],
   "source": [
    "# create a (5, 5) array\n",
    "arr = np.array([['Mahesh Babu', 'Jr. NTR', 'Allu Arjun', 'Ram Charan', 'Prabhas',],\n",
    "                ['Nani', 'Vijay Deverakonda', 'Nagarjuna', 'Ravi Teja', 'Venkatesh'],\n",
    "                ['Pawan Kalyan', 'Chiranjeevi', 'Balakrishna', 'Naga Chaitanya', 'Varun Tej',],\n",
    "                ['Sudheer Babu', 'Nikhil Siddharth', 'Bellamkonda Sreenivas', 'Sai Dharam Tej', 'Sumanth'],\n",
    "                ['Sundeep Kishan', 'Sharwanand', 'Karthikeya', 'Kalyan Ram', 'Nithiin']])\n",
    "\n",
    "#diagonal elements \n",
    "diagonal_arr = arr.diagonal()\n",
    "\n",
    "print(diagonal_arr)"
   ]
  },
  {
   "cell_type": "code",
   "execution_count": 5,
   "id": "949867c0",
   "metadata": {},
   "outputs": [
    {
     "name": "stdout",
     "output_type": "stream",
     "text": [
      "Diagonal Array is [1 1 1 1 1]\n"
     ]
    }
   ],
   "source": [
    "arr = np.array([[1,0,0,0,0],\n",
    "                [0,1,0,0,0],\n",
    "                [0,0,1,0,0],\n",
    "                [0,0,0,1,0],\n",
    "                [0,0,0,0,1]])\n",
    "diagonal_arr = np.diag(arr)\n",
    "\n",
    "print('Diagonal Array is',diagonal_arr)\n"
   ]
  },
  {
   "cell_type": "markdown",
   "id": "4b506510",
   "metadata": {},
   "source": [
    "### 2) You have two arrays of shape (3, 3) and (3, 1). Using NumPy, perform matrix multiplication of these arrays.\n"
   ]
  },
  {
   "cell_type": "code",
   "execution_count": 6,
   "id": "17405a18",
   "metadata": {},
   "outputs": [
    {
     "data": {
      "text/plain": [
       "array([[20],\n",
       "       [47],\n",
       "       [74]])"
      ]
     },
     "execution_count": 6,
     "metadata": {},
     "output_type": "execute_result"
    }
   ],
   "source": [
    "#3x3 array\n",
    "arr1 = np.array([[1, 2, 3], [4, 5, 6], [7, 8, 9]])\n",
    "#3x1 array\n",
    "arr2 = np.array([[2], [3], [4]])\n",
    "#np.matmul() for multiplying two arrays is used here\n",
    "product = np.matmul(arr1, arr2)\n",
    "product"
   ]
  },
  {
   "cell_type": "code",
   "execution_count": 7,
   "id": "e7752333",
   "metadata": {},
   "outputs": [
    {
     "name": "stdout",
     "output_type": "stream",
     "text": [
      "Product :\n",
      "[[20]\n",
      " [47]\n",
      " [74]]\n"
     ]
    }
   ],
   "source": [
    "#3x3 array\n",
    "arr1 = np.array([[1, 2, 3], [4, 5, 6], [7, 8, 9]])\n",
    "#3x1 array\n",
    "arr2 = np.array([[2], [3], [4]])\n",
    "#np.dot() for multiplying two arrays is used here\n",
    "product = np.dot(arr1, arr2)\n",
    "print('Product :')\n",
    "print(product)"
   ]
  },
  {
   "cell_type": "markdown",
   "id": "1a7d2947",
   "metadata": {},
   "source": [
    "### 4) You have two arrays of shape (3, 3) and (3, 4). Using NumPy, concatenate these arrays along the first axis"
   ]
  },
  {
   "cell_type": "code",
   "execution_count": 9,
   "id": "8548a12d",
   "metadata": {},
   "outputs": [
    {
     "name": "stdout",
     "output_type": "stream",
     "text": [
      "After concatenate:\n",
      "[[ 1  2  3 10 11 12 13]\n",
      " [ 4  5  6 14 15 16 17]\n",
      " [ 7  8  9 18 19 20 21]]\n"
     ]
    }
   ],
   "source": [
    "# create two 3x3 and 3x4 arrays\n",
    "arr1 = np.array([[1, 2, 3], [4, 5, 6], [7, 8, 9]])\n",
    "arr2 = np.array([[10, 11, 12, 13], [14, 15, 16, 17], [18, 19, 20, 21]])\n",
    "\n",
    "# concatenate the arrays along the first axis\n",
    "result = np.concatenate((arr1, arr2), axis=1)\n",
    "\n",
    "# print the result\n",
    "print('After concatenate:')\n",
    "print(result)\n"
   ]
  },
  {
   "cell_type": "markdown",
   "id": "024a252a",
   "metadata": {},
   "source": [
    "### 5) You have an array of shape (2, 3, 4). Using NumPy, reshape it into an array of shape (2, 4, 3)."
   ]
  },
  {
   "cell_type": "code",
   "execution_count": 10,
   "id": "89bbd88d",
   "metadata": {},
   "outputs": [
    {
     "name": "stdout",
     "output_type": "stream",
     "text": [
      "Original array:\n",
      "[[[ 1  2  3  4]\n",
      "  [ 5  6  7  8]\n",
      "  [ 9 10 11 12]]\n",
      "\n",
      " [[13 14 15 16]\n",
      "  [17 18 19 20]\n",
      "  [21 22 23 24]]]\n",
      "Reshaped array:\n",
      "[[[ 1  5  9]\n",
      "  [ 2  6 10]\n",
      "  [ 3  7 11]\n",
      "  [ 4  8 12]]\n",
      "\n",
      " [[13 17 21]\n",
      "  [14 18 22]\n",
      "  [15 19 23]\n",
      "  [16 20 24]]]\n"
     ]
    }
   ],
   "source": [
    "# shape: (2, 3, 4)\n",
    "chocolate = np.array([\n",
    "    [[1, 2, 3, 4], [5, 6, 7, 8], [9, 10, 11, 12]],\n",
    "    [[13, 14, 15, 16], [17, 18, 19, 20], [21, 22, 23, 24]]\n",
    "])\n",
    "\n",
    "# print the original array\n",
    "print(\"Original array:\")\n",
    "print(chocolate)\n",
    "\n",
    "# reshape the array\n",
    "# new shape: (2, 4, 3)\n",
    "new_chocolate = np.transpose(chocolate, (0, 2, 1))\n",
    "\n",
    "# print the reshaped array\n",
    "print(\"Reshaped array:\")\n",
    "print(new_chocolate)\n"
   ]
  },
  {
   "cell_type": "markdown",
   "id": "26f86590",
   "metadata": {},
   "source": [
    "### 6) You have an array of shape (4, 4). Using NumPy, split it into two equal parts horizontally"
   ]
  },
  {
   "cell_type": "code",
   "execution_count": 11,
   "id": "dd40f0c9",
   "metadata": {},
   "outputs": [
    {
     "name": "stdout",
     "output_type": "stream",
     "text": [
      "Original array:\n",
      " [[ 1  2  3  4]\n",
      " [ 5  6  7  8]\n",
      " [ 9 10 11 12]\n",
      " [13 14 15 16]]\n",
      "\n",
      "New array:\n",
      " [array([[1, 2, 3, 4],\n",
      "       [5, 6, 7, 8]]), array([[ 9, 10, 11, 12],\n",
      "       [13, 14, 15, 16]])]\n"
     ]
    }
   ],
   "source": [
    "#4x4 array\n",
    "arr = np.array([[1, 2, 3, 4],\n",
    "                [5, 6, 7, 8],\n",
    "                [9, 10, 11, 12],\n",
    "                [13, 14, 15, 16]])\n",
    "\n",
    "#split the array horizontally into two equal parts\n",
    "new_arr = np.split(arr, 2)\n",
    "\n",
    "# print the original and new arrays\n",
    "print(\"Original array:\\n\", arr)\n",
    "print(\"\\nNew array:\\n\", new_arr)\n"
   ]
  },
  {
   "cell_type": "markdown",
   "id": "967efc55",
   "metadata": {},
   "source": [
    "### 10) You have a data frame containing the names, ages and salaries of employees. Using Pandas, create a new data frame that contains only the names and salaries of employees who are older than 30 years\n",
    "\n"
   ]
  },
  {
   "cell_type": "code",
   "execution_count": 20,
   "id": "03b7f502",
   "metadata": {},
   "outputs": [
    {
     "data": {
      "text/html": [
       "<div>\n",
       "<style scoped>\n",
       "    .dataframe tbody tr th:only-of-type {\n",
       "        vertical-align: middle;\n",
       "    }\n",
       "\n",
       "    .dataframe tbody tr th {\n",
       "        vertical-align: top;\n",
       "    }\n",
       "\n",
       "    .dataframe thead th {\n",
       "        text-align: right;\n",
       "    }\n",
       "</style>\n",
       "<table border=\"1\" class=\"dataframe\">\n",
       "  <thead>\n",
       "    <tr style=\"text-align: right;\">\n",
       "      <th></th>\n",
       "      <th>name</th>\n",
       "      <th>salary</th>\n",
       "    </tr>\n",
       "  </thead>\n",
       "  <tbody>\n",
       "    <tr>\n",
       "      <th>3</th>\n",
       "      <td>Veda</td>\n",
       "      <td>45000</td>\n",
       "    </tr>\n",
       "    <tr>\n",
       "      <th>4</th>\n",
       "      <td>Vinay</td>\n",
       "      <td>95000</td>\n",
       "    </tr>\n",
       "    <tr>\n",
       "      <th>5</th>\n",
       "      <td>Adithya</td>\n",
       "      <td>55000</td>\n",
       "    </tr>\n",
       "  </tbody>\n",
       "</table>\n",
       "</div>"
      ],
      "text/plain": [
       "      name  salary\n",
       "3     Veda   45000\n",
       "4    Vinay   95000\n",
       "5  Adithya   55000"
      ]
     },
     "execution_count": 20,
     "metadata": {},
     "output_type": "execute_result"
    }
   ],
   "source": [
    "#a sample data frame\n",
    "df = pd.DataFrame({\n",
    "    'name': ['Kedhar','Sathivk','Hari','Veda','Vinay','Adithya'],\n",
    "    'age': [29, 30, 28, 31, 45, 50],\n",
    "    'salary': [50000, 80000, 65000, 45000, 95000, 55000]\n",
    "})\n",
    "\n",
    "# filter the data frame to keep only employees older than 30\n",
    "df_filtered = df.loc[df['age'] > 30, ['name', 'salary']]\n",
    "df\n",
    "df_filtered"
   ]
  },
  {
   "cell_type": "markdown",
   "id": "6dff246a",
   "metadata": {},
   "source": [
    "### 11) You have two data frames containing the names, ages and genders of students from two different classes. Using Pandas, merge these data frames on the basis of the names of the students and add a new column that contains the average age of the students from both classes.\n"
   ]
  },
  {
   "cell_type": "code",
   "execution_count": 55,
   "id": "84fcace2",
   "metadata": {},
   "outputs": [
    {
     "name": "stdout",
     "output_type": "stream",
     "text": [
      "     name  age_class1 gender_x  age_class2 gender_y  avg_age\n",
      "0  Kedhar          21        M          22        M     21.5\n",
      "1    Hari          20        M          18        F     19.0\n",
      "2    Sita          19        F          20        F     19.5\n"
     ]
    }
   ],
   "source": [
    "# Load the data frames\n",
    "class1 = pd.DataFrame({'name': ['Kedhar', 'Hari', 'Sita'], 'age': [21, 20, 19], 'gender': ['M', 'M', 'F']})\n",
    "class2 = pd.DataFrame({'name': ['Hari', 'Kedhar', 'Sita'], 'age': [18, 22, 20], 'gender': ['F', 'M', 'F']})\n",
    "\n",
    "# Merge the data frames on the 'name' column\n",
    "merged_df = pd.merge(class1, class2, on='name')\n",
    "\n",
    "# Compute the average age of the students from both classes\n",
    "merged_df['avg_age'] = (merged_df['age_x'].fillna(0) + merged_df['age_y'].fillna(0)) / 2\n",
    "\n",
    "# Rename the columns to be more descriptive\n",
    "merged_df = merged_df.rename(columns={'age_x': 'age_class1', 'age_y': 'age_class2'})\n",
    "\n",
    "# Drop the redundant 'gender' column\n",
    "\n",
    "# Print the merged data frame\n",
    "print(merged_df)\n"
   ]
  },
  {
   "cell_type": "markdown",
   "id": "62c5372e",
   "metadata": {},
   "source": [
    "### 12) You have a data frame containing the names and grades of students. Using Pandas, group the data frame by grades and calculate the mean, median and standard deviation of the grades for each group."
   ]
  },
  {
   "cell_type": "code",
   "execution_count": 49,
   "id": "0b080af3",
   "metadata": {},
   "outputs": [
    {
     "name": "stdout",
     "output_type": "stream",
     "text": [
      "      Name  Grade\n",
      "0    Alice     90\n",
      "1      Bob     85\n",
      "2  Charlie     75\n",
      "3     Dave     90\n",
      "4      Eve     80\n",
      "5    Frank     95\n",
      "            Students  Mean Grade  Median Grade  Std Deviation\n",
      "Grade                                                        \n",
      "75         [Charlie]        75.0          75.0            NaN\n",
      "80             [Eve]        80.0          80.0            NaN\n",
      "85             [Bob]        85.0          85.0            NaN\n",
      "90     [Alice, Dave]        90.0          90.0            0.0\n",
      "95           [Frank]        95.0          95.0            NaN\n"
     ]
    }
   ],
   "source": [
    "import pandas as pd\n",
    "\n",
    "# create a sample DataFrame\n",
    "df = pd.DataFrame({\n",
    "    'Name': ['Alice', 'Bob', 'Charlie', 'Dave', 'Eve', 'Frank'],\n",
    "    'Grade': [90, 85, 75, 90, 80, 95]\n",
    "})\n",
    "print(pd.DataFrame(df))\n",
    "# group the DataFrame by grades and calculate the mean, median, and standard deviation\n",
    "grouped_df = df.groupby('Grade').agg({'Name': list, 'Grade': ['mean', 'median', 'std']})\n",
    "\n",
    "# rename the columns\n",
    "grouped_df.columns = ['Students', 'Mean Grade', 'Median Grade', 'Std Deviation']\n",
    "\n",
    "# print the results\n",
    "print(grouped_df)\n"
   ]
  },
  {
   "cell_type": "code",
   "execution_count": null,
   "id": "33999788",
   "metadata": {},
   "outputs": [],
   "source": []
  }
 ],
 "metadata": {
  "kernelspec": {
   "display_name": "Python 3 (ipykernel)",
   "language": "python",
   "name": "python3"
  },
  "language_info": {
   "codemirror_mode": {
    "name": "ipython",
    "version": 3
   },
   "file_extension": ".py",
   "mimetype": "text/x-python",
   "name": "python",
   "nbconvert_exporter": "python",
   "pygments_lexer": "ipython3",
   "version": "3.9.13"
  }
 },
 "nbformat": 4,
 "nbformat_minor": 5
}
