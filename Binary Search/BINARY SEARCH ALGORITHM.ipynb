{
 "cells": [
  {
   "cell_type": "code",
   "execution_count": 1,
   "id": "a23de02b",
   "metadata": {},
   "outputs": [
    {
     "name": "stdout",
     "output_type": "stream",
     "text": [
      "eneter the number of elements in the list:100\n",
      "[0, 2, 4, 6, 8, 10, 12, 14, 16, 18, 20, 22, 24, 26, 28, 30, 32, 34, 36, 38, 40, 42, 44, 46, 48, 50, 52, 54, 56, 58, 60, 62, 64, 66, 68, 70, 72, 74, 76, 78, 80, 82, 84, 86, 88, 90, 92, 94, 96, 98, 100, 102, 104, 106, 108, 110, 112, 114, 116, 118, 120, 122, 124, 126, 128, 130, 132, 134, 136, 138, 140, 142, 144, 146, 148, 150, 152, 154, 156, 158, 160, 162, 164, 166, 168, 170, 172, 174, 176, 178, 180, 182, 184, 186, 188, 190, 192, 194, 196, 198]\n",
      "enter the number to search for:58\n",
      "the number is present in the list.\n"
     ]
    }
   ],
   "source": [
    "#function to create list\n",
    "import random\n",
    "\n",
    "def generate_list(n):\n",
    "    lst=[random.randint(0,100) for i in range(n)]\n",
    "    lst.sort()\n",
    "    for i in range(1,len(lst)):\n",
    "        lst[i]=lst[i-1]+2\n",
    "    return lst\n",
    "    \n",
    "\n",
    "\n",
    "#function toperform binary search on list\n",
    "def binary_search(lst,x):\n",
    "    start=0\n",
    "    end=len(lst)-1\n",
    "    while start<=end:\n",
    "        mid=(start+end)//2\n",
    "        if lst[mid]==x:\n",
    "            return True\n",
    "        elif lst[mid]<x:\n",
    "            start=mid+1\n",
    "        else:\n",
    "            end=mid-1\n",
    "    return False\n",
    "\n",
    "\n",
    "n=int(input(\"eneter the number of elements in the list:\"))\n",
    "\n",
    "#generate the list and perform binary search\n",
    "lst=generate_list(n)\n",
    "print(lst)\n",
    "x=int(input(\"enter the number to search for:\"))\n",
    "result=binary_search(lst,x)\n",
    "\n",
    "#print the result\n",
    "if result:\n",
    "    print(\"the number is present in the list.\")\n",
    "else:\n",
    "    print(\"the number is not present in the list.\")\n",
    "\n",
    "#The code starts by declaring a variable n, which is the number of elements in the list.\n",
    "#The code then generates a list with 100 elements and sorts it.\n",
    "#It then iterates through each element of the list to find out if that element is equal to x or not.\n",
    "#If it is found, print \"the number is present in the list.\"\n",
    "#Otherwise, print \"the number is not present in the list.\"\n",
    "#The code will print out \"the number is not present in the list.\"\n",
    "#if x is less than or equal to 0."
   ]
  },
  {
   "cell_type": "code",
   "execution_count": null,
   "id": "8a6d77c8",
   "metadata": {},
   "outputs": [],
   "source": []
  }
 ],
 "metadata": {
  "kernelspec": {
   "display_name": "Python 3 (ipykernel)",
   "language": "python",
   "name": "python3"
  },
  "language_info": {
   "codemirror_mode": {
    "name": "ipython",
    "version": 3
   },
   "file_extension": ".py",
   "mimetype": "text/x-python",
   "name": "python",
   "nbconvert_exporter": "python",
   "pygments_lexer": "ipython3",
   "version": "3.9.13"
  }
 },
 "nbformat": 4,
 "nbformat_minor": 5
}
